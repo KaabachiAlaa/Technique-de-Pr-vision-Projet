{
 "cells": [
  {
   "cell_type": "markdown",
   "id": "18756512-e649-4b04-a69a-82b7db6e0d7c",
   "metadata": {},
   "source": [
    "### Kaabachi Alaa\n",
    "### 3BD1"
   ]
  },
  {
   "cell_type": "markdown",
   "id": "8a0e6455-241b-4670-8553-92ae8ecd165e",
   "metadata": {},
   "source": [
    "#### Étape 1 : Charger et examiner les données"
   ]
  },
  {
   "cell_type": "code",
   "execution_count": 2,
   "id": "f8474542-9c59-4d62-8ab7-e4677a316063",
   "metadata": {},
   "outputs": [
    {
     "name": "stderr",
     "output_type": "stream",
     "text": [
      "Warning message:\n",
      "\"package 'readxl' was built under R version 4.4.2\"\n",
      "Warning message:\n",
      "\"package 'nnet' was built under R version 4.4.2\"\n",
      "Warning message:\n",
      "\"package 'caret' was built under R version 4.4.2\"\n",
      "Loading required package: ggplot2\n",
      "\n",
      "Warning message:\n",
      "\"package 'ggplot2' was built under R version 4.4.2\"\n",
      "Loading required package: lattice\n",
      "\n"
     ]
    },
    {
     "data": {
      "text/html": [
       "<table class=\"dataframe\">\n",
       "<caption>A tibble: 6 × 5</caption>\n",
       "<thead>\n",
       "\t<tr><th scope=col>Continente</th><th scope=col>Dis Mag Value</th><th scope=col>nombre total de décès</th><th scope=col>Total Affecté</th><th scope=col>Total des dommages ('000 US $)</th></tr>\n",
       "\t<tr><th scope=col>&lt;dbl&gt;</th><th scope=col>&lt;dbl&gt;</th><th scope=col>&lt;dbl&gt;</th><th scope=col>&lt;dbl&gt;</th><th scope=col>&lt;dbl&gt;</th></tr>\n",
       "</thead>\n",
       "<tbody>\n",
       "\t<tr><td>2</td><td>8</td><td>  12</td><td>    40</td><td>500000</td></tr>\n",
       "\t<tr><td>3</td><td>7</td><td> 476</td><td>141277</td><td>100000</td></tr>\n",
       "\t<tr><td>2</td><td>7</td><td>   3</td><td>    15</td><td>  7310</td></tr>\n",
       "\t<tr><td>4</td><td>7</td><td>1250</td><td>134250</td><td>  6000</td></tr>\n",
       "\t<tr><td>3</td><td>7</td><td>  31</td><td>   200</td><td>  3150</td></tr>\n",
       "\t<tr><td>1</td><td>8</td><td> 100</td><td>  2000</td><td> 25000</td></tr>\n",
       "</tbody>\n",
       "</table>\n"
      ],
      "text/latex": [
       "A tibble: 6 × 5\n",
       "\\begin{tabular}{lllll}\n",
       " Continente & Dis Mag Value & nombre total de décès & Total Affecté & Total des dommages ('000 US \\$)\\\\\n",
       " <dbl> & <dbl> & <dbl> & <dbl> & <dbl>\\\\\n",
       "\\hline\n",
       "\t 2 & 8 &   12 &     40 & 500000\\\\\n",
       "\t 3 & 7 &  476 & 141277 & 100000\\\\\n",
       "\t 2 & 7 &    3 &     15 &   7310\\\\\n",
       "\t 4 & 7 & 1250 & 134250 &   6000\\\\\n",
       "\t 3 & 7 &   31 &    200 &   3150\\\\\n",
       "\t 1 & 8 &  100 &   2000 &  25000\\\\\n",
       "\\end{tabular}\n"
      ],
      "text/markdown": [
       "\n",
       "A tibble: 6 × 5\n",
       "\n",
       "| Continente &lt;dbl&gt; | Dis Mag Value &lt;dbl&gt; | nombre total de décès &lt;dbl&gt; | Total Affecté &lt;dbl&gt; | Total des dommages ('000 US $) &lt;dbl&gt; |\n",
       "|---|---|---|---|---|\n",
       "| 2 | 8 |   12 |     40 | 500000 |\n",
       "| 3 | 7 |  476 | 141277 | 100000 |\n",
       "| 2 | 7 |    3 |     15 |   7310 |\n",
       "| 4 | 7 | 1250 | 134250 |   6000 |\n",
       "| 3 | 7 |   31 |    200 |   3150 |\n",
       "| 1 | 8 |  100 |   2000 |  25000 |\n",
       "\n"
      ],
      "text/plain": [
       "  Continente Dis Mag Value nombre total de décès Total Affecté\n",
       "1 2          8               12                      40       \n",
       "2 3          7              476                  141277       \n",
       "3 2          7                3                      15       \n",
       "4 4          7             1250                  134250       \n",
       "5 3          7               31                     200       \n",
       "6 1          8              100                    2000       \n",
       "  Total des dommages ('000 US $)\n",
       "1 500000                        \n",
       "2 100000                        \n",
       "3   7310                        \n",
       "4   6000                        \n",
       "5   3150                        \n",
       "6  25000                        "
      ]
     },
     "metadata": {},
     "output_type": "display_data"
    },
    {
     "data": {
      "text/html": [
       "<style>\n",
       ".dl-inline {width: auto; margin:0; padding: 0}\n",
       ".dl-inline>dt, .dl-inline>dd {float: none; width: auto; display: inline-block}\n",
       ".dl-inline>dt::after {content: \":\\0020\"; padding-right: .5ex}\n",
       ".dl-inline>dt:not(:first-of-type) {padding-left: .5ex}\n",
       "</style><dl class=dl-inline><dt>Continente</dt><dd>0</dd><dt>Dis Mag Value</dt><dd>0</dd><dt>nombre total de décès</dt><dd>0</dd><dt>Total Affecté</dt><dd>0</dd><dt>Total des dommages ('000 US $)</dt><dd>0</dd></dl>\n"
      ],
      "text/latex": [
       "\\begin{description*}\n",
       "\\item[Continente] 0\n",
       "\\item[Dis Mag Value] 0\n",
       "\\item[nombre total de décès] 0\n",
       "\\item[Total Affecté] 0\n",
       "\\item[Total des dommages ('000 US \\textbackslash{}\\$)] 0\n",
       "\\end{description*}\n"
      ],
      "text/markdown": [
       "Continente\n",
       ":   0Dis Mag Value\n",
       ":   0nombre total de décès\n",
       ":   0Total Affecté\n",
       ":   0Total des dommages ('000 US $)\n",
       ":   0\n",
       "\n"
      ],
      "text/plain": [
       "                    Continente                  Dis Mag Value \n",
       "                             0                              0 \n",
       "         nombre total de décès                  Total Affecté \n",
       "                             0                              0 \n",
       "Total des dommages ('000 US $) \n",
       "                             0 "
      ]
     },
     "metadata": {},
     "output_type": "display_data"
    }
   ],
   "source": [
    "# Charger les bibliothèques nécessaires\n",
    "library(readxl)\n",
    "library(nnet)\n",
    "library(caret)\n",
    "\n",
    "#Charger Les données de Exercice1\n",
    "data <- read_excel(\"C:\\\\Users\\\\alaak\\\\Downloads\\\\exercice 2.xlsx\", sheet=\"Feuil1\")\n",
    "#Afficher les premieéres lignes pour examiner les données\n",
    "head(data)\n",
    "#Vérifier les valuers manquantes\n",
    "colSums(is.na(data))\n",
    "#Supprimer les lignes avec des valeurs manquantes\n",
    "data <- na.omit(data)\n"
   ]
  },
  {
   "cell_type": "markdown",
   "id": "dddb3cdd-6535-4564-9bce-148d623fcd2b",
   "metadata": {},
   "source": [
    "### 2. Expliquer la variable continente  en fonction des variables\n"
   ]
  },
  {
   "cell_type": "code",
   "execution_count": 4,
   "id": "6c015291-1f60-4487-afc0-afac164d29fd",
   "metadata": {},
   "outputs": [
    {
     "name": "stdout",
     "output_type": "stream",
     "text": [
      "# weights:  30 (20 variable)\n",
      "initial  value 173.819295 \n",
      "iter  10 value 165.148541\n",
      "iter  20 value 131.900368\n",
      "iter  30 value 125.614527\n",
      "iter  40 value 125.098755\n",
      "iter  50 value 124.569999\n",
      "iter  60 value 123.846741\n",
      "iter  70 value 122.842655\n",
      "iter  80 value 122.716010\n",
      "final  value 122.714668 \n",
      "converged\n"
     ]
    },
    {
     "data": {
      "text/plain": [
       "Call:\n",
       "multinom(formula = Continente ~ ., data = data)\n",
       "\n",
       "Coefficients:\n",
       "  (Intercept) `Dis Mag Value` `nombre total de décès` `Total Affecté`\n",
       "2   -4.807929       0.6177011           -3.017864e-05    9.305018e-07\n",
       "3    5.326481      -0.9018543           -3.933559e-04    1.298160e-06\n",
       "4    7.680986      -1.4427079           -1.203217e-05    1.060519e-06\n",
       "5   -6.456925       0.8655634           -2.439808e-02   -1.408477e-04\n",
       "  `Total des dommages ('000 US $)`\n",
       "2                     4.043856e-07\n",
       "3                     2.230761e-07\n",
       "4                     2.370130e-07\n",
       "5                    -1.795839e-04\n",
       "\n",
       "Std. Errors:\n",
       "   (Intercept) `Dis Mag Value` `nombre total de décès` `Total Affecté`\n",
       "2 3.457665e-08    2.398805e-07            3.356182e-05    7.155007e-07\n",
       "3 9.207998e-08    6.071898e-07            3.224619e-04    1.013857e-06\n",
       "4 1.374329e-08    8.091810e-08            4.799140e-05    1.007641e-06\n",
       "5 3.854395e-08    2.675433e-07            4.320014e-07    2.195122e-04\n",
       "  `Total des dommages ('000 US $)`\n",
       "2                     3.148590e-07\n",
       "3                     3.271382e-07\n",
       "4                     3.320683e-07\n",
       "5                     2.530911e-04\n",
       "\n",
       "Residual Deviance: 245.4293 \n",
       "AIC: 285.4293 "
      ]
     },
     "metadata": {},
     "output_type": "display_data"
    }
   ],
   "source": [
    "model <- multinom(Continente ~ .,data=data)\n",
    "summary(model)"
   ]
  },
  {
   "cell_type": "markdown",
   "id": "bc98a8c7-6120-4bfe-8fb2-64cddcb9867d",
   "metadata": {},
   "source": [
    "### 3.Determiner la Qualité du modéle"
   ]
  },
  {
   "cell_type": "code",
   "execution_count": 5,
   "id": "77c90117-cd42-4b8c-8ec1-c493190ec10b",
   "metadata": {},
   "outputs": [
    {
     "name": "stdout",
     "output_type": "stream",
     "text": [
      "   predictions\n",
      "     1  2  3  4  5\n",
      "  1 29  7  5  0  0\n",
      "  2 18 13  1  0  0\n",
      "  3 13  3  6  0  0\n",
      "  4  6  1  2  2  0\n",
      "  5  2  0  0  0  0\n",
      "[1] \"Qualité du modèle : 0.462962962962963\"\n"
     ]
    }
   ],
   "source": [
    "#D'abord on va faire une prédiction\n",
    "predictions<-predict(model,newdata=data)\n",
    "#creer la matrice de confusion\n",
    "MatriceDeConfusion<-table(data$Continente,predictions)\n",
    "print(MatriceDeConfusion)\n",
    "#Calculer la qualité du modéle:somme de diagonale / somme de matrice\n",
    "print(paste(\"Qualité du modèle :\", sum(diag(MatriceDeConfusion)) / sum(MatriceDeConfusion)))"
   ]
  },
  {
   "cell_type": "markdown",
   "id": "ba620fb6-1d56-4b57-a347-0eb30059bafb",
   "metadata": {},
   "source": [
    "### 4. Expliquer la variable  Dis Mag en fonction des variables\n"
   ]
  },
  {
   "cell_type": "code",
   "execution_count": 14,
   "id": "65027800-6909-4de1-8c58-5bff8452bd9f",
   "metadata": {},
   "outputs": [
    {
     "name": "stdout",
     "output_type": "stream",
     "text": [
      "# weights:  30 (20 variable)\n",
      "initial  value 193.510023 \n",
      "iter  10 value 178.341875\n",
      "iter  20 value 133.918263\n",
      "iter  30 value 127.265709\n",
      "iter  40 value 126.230292\n",
      "iter  50 value 125.705007\n",
      "iter  60 value 125.098559\n",
      "iter  70 value 124.351402\n",
      "iter  80 value 124.027365\n",
      "iter  90 value 123.578972\n",
      "iter 100 value 123.309541\n",
      "final  value 123.309541 \n",
      "stopped after 100 iterations\n"
     ]
    },
    {
     "data": {
      "text/plain": [
       "Call:\n",
       "multinom(formula = `Dis Mag Value` ~ `nombre total de décès` + \n",
       "    `Total Affecté` + `Total des dommages ('000 US $)`, data = data)\n",
       "\n",
       "Coefficients:\n",
       "  (Intercept) `nombre total de décès` `Total Affecté`\n",
       "4   1.4144650           -0.5933362445    6.511416e-06\n",
       "5   0.2818687           -0.0007285482    1.874325e-05\n",
       "6   1.3400011            0.0001790053    4.001649e-05\n",
       "7   1.7559870            0.0001754416    4.003299e-05\n",
       "8   0.4755223            0.0002000724    4.225506e-05\n",
       "  `Total des dommages ('000 US $)`\n",
       "4                     0.0003920540\n",
       "5                     0.0003997089\n",
       "6                     0.0003993648\n",
       "7                     0.0003994797\n",
       "8                     0.0003992066\n",
       "\n",
       "Std. Errors:\n",
       "   (Intercept) `nombre total de décès` `Total Affecté`\n",
       "4 6.931299e-09            9.498022e-09    1.351225e-04\n",
       "5 2.678236e-09            3.222084e-07    9.039424e-05\n",
       "6 4.078630e-09            1.940440e-05    8.802337e-05\n",
       "7 6.059144e-09            1.818987e-05    8.802112e-05\n",
       "8 1.872733e-09            1.364613e-05    8.802322e-05\n",
       "  `Total des dommages ('000 US $)`\n",
       "4                     1.860743e-05\n",
       "5                     7.912646e-06\n",
       "6                     7.915000e-06\n",
       "7                     7.913400e-06\n",
       "8                     7.917249e-06\n",
       "\n",
       "Residual Deviance: 246.6191 \n",
       "AIC: 286.6191 "
      ]
     },
     "metadata": {},
     "output_type": "display_data"
    }
   ],
   "source": [
    "model <- multinom(`Dis Mag Value` ~ `nombre total de décès` +`Total Affecté`+`Total des dommages ('000 US $)`,data=data)\n",
    "summary(model)"
   ]
  },
  {
   "cell_type": "markdown",
   "id": "ae19a974-544b-437c-8d8b-dd86d45dd2c1",
   "metadata": {},
   "source": [
    "### 5.Determiner la Qualité du modéle"
   ]
  },
  {
   "cell_type": "code",
   "execution_count": 15,
   "id": "d0298746-aec7-430d-bfa2-9c58c42d9669",
   "metadata": {},
   "outputs": [
    {
     "name": "stdout",
     "output_type": "stream",
     "text": [
      "   predictions\n",
      "     1  4  5  6  7  8\n",
      "  1  0  0  0  0  1  0\n",
      "  4  0  0  0  0  1  0\n",
      "  5  0  0  1  0  7  0\n",
      "  6  0  0  0  0 29  1\n",
      "  7  0  0  0  0 48  0\n",
      "  8  0  0  0  0 14  6\n",
      "[1] \"Qualité du modèle : 0.509259259259259\"\n"
     ]
    }
   ],
   "source": [
    "#D'abord on va faire une prédiction\n",
    "predictions<-predict(model,newdata=data)\n",
    "#creer la matrice de confusion\n",
    "MatriceDeConfusion<-table(data$ `Dis Mag Value`,predictions)\n",
    "print(MatriceDeConfusion)\n",
    "#Calculer la qualité du modéle:somme de diagonale / somme de matrice\n",
    "print(paste(\"Qualité du modèle :\", sum(diag(MatriceDeConfusion)) / sum(MatriceDeConfusion)))"
   ]
  },
  {
   "cell_type": "markdown",
   "id": "c1e0631f-7d5e-4ec3-bf17-9d295cdefe7e",
   "metadata": {},
   "source": [
    "#### 6.Etudier la stationarité du Dis Mag value"
   ]
  },
  {
   "cell_type": "code",
   "execution_count": 26,
   "id": "b551716f-0d16-4016-b2c1-4fb4595be1db",
   "metadata": {},
   "outputs": [
    {
     "name": "stderr",
     "output_type": "stream",
     "text": [
      "Warning message in adf.test(data$`Dis Mag Value`, alternative = \"stationary\"):\n",
      "\"p-value smaller than printed p-value\"\n"
     ]
    },
    {
     "name": "stdout",
     "output_type": "stream",
     "text": [
      "\n",
      "\tAugmented Dickey-Fuller Test\n",
      "\n",
      "data:  data$`Dis Mag Value`\n",
      "Dickey-Fuller = -4.2359, Lag order = 4, p-value = 0.01\n",
      "alternative hypothesis: stationary\n",
      "\n"
     ]
    }
   ],
   "source": [
    "# Charger la bibliothèque tseries\n",
    "library(tseries)\n",
    "# effectuter le test de stationnarité\n",
    "DisMagValueStat = adf.test(data$ `Dis Mag Value`,alternative = \"stationary\")\n",
    "print(DisMagValueStat)"
   ]
  },
  {
   "cell_type": "markdown",
   "id": "ba85b239-9be1-48a7-b707-de5204821fab",
   "metadata": {},
   "source": [
    "p-value = 0.01 < 0.05, on peut conclure que Dis Mag Value est stationnaire d'ordre 0.\n",
    "\n"
   ]
  },
  {
   "cell_type": "markdown",
   "id": "02e4a408-0b06-4bb8-9117-4730506e361b",
   "metadata": {},
   "source": [
    "#### 7.Etudier la stationarité du nombre total de décès"
   ]
  },
  {
   "cell_type": "code",
   "execution_count": 27,
   "id": "23aa9d79-d672-4845-a1ec-bcac743f8e2a",
   "metadata": {},
   "outputs": [
    {
     "name": "stderr",
     "output_type": "stream",
     "text": [
      "Warning message in adf.test(data$`nombre total de décès`, alternative = \"stationary\"):\n",
      "\"p-value smaller than printed p-value\"\n"
     ]
    },
    {
     "name": "stdout",
     "output_type": "stream",
     "text": [
      "\n",
      "\tAugmented Dickey-Fuller Test\n",
      "\n",
      "data:  data$`nombre total de décès`\n",
      "Dickey-Fuller = -4.8164, Lag order = 4, p-value = 0.01\n",
      "alternative hypothesis: stationary\n",
      "\n"
     ]
    }
   ],
   "source": [
    "# effectuter le test de stationnarité\n",
    "NombreTotalDeDécésStat = adf.test(data$ `nombre total de décès`,alternative = \"stationary\")\n",
    "print(NombreTotalDeDécésStat)"
   ]
  },
  {
   "cell_type": "markdown",
   "id": "dc7ab7f4-bbb1-4eb3-8210-f40a455bfda2",
   "metadata": {},
   "source": [
    "p-value = 0.01 < 0.05, on peut conclure que nombre total de décès est stationnaire d'ordre 0."
   ]
  },
  {
   "cell_type": "markdown",
   "id": "59751f3f-1f7e-4ae5-a2ba-c57e994a4ad2",
   "metadata": {},
   "source": [
    "#### 8.Etudier la stationarité du  total affecté"
   ]
  },
  {
   "cell_type": "code",
   "execution_count": 29,
   "id": "b380bc41-9d96-4e1a-8ebf-74d2671e82b9",
   "metadata": {},
   "outputs": [
    {
     "name": "stderr",
     "output_type": "stream",
     "text": [
      "Warning message in adf.test(data$`Total Affecté`, alternative = \"stationary\"):\n",
      "\"p-value smaller than printed p-value\"\n"
     ]
    },
    {
     "name": "stdout",
     "output_type": "stream",
     "text": [
      "\n",
      "\tAugmented Dickey-Fuller Test\n",
      "\n",
      "data:  data$`Total Affecté`\n",
      "Dickey-Fuller = -4.0487, Lag order = 4, p-value = 0.01\n",
      "alternative hypothesis: stationary\n",
      "\n"
     ]
    }
   ],
   "source": [
    "# effectuter le test de stationnarité\n",
    "TotalAffecté = adf.test(data$ `Total Affecté`,alternative = \"stationary\")\n",
    "print(TotalAffecté)"
   ]
  },
  {
   "cell_type": "markdown",
   "id": "0a93381e-cf62-4ed2-a1c4-de63ae013441",
   "metadata": {},
   "source": [
    "p-value = 0.01 < 0.05, on peut conclure que le nombre total de décès est stationnaire d'ordre 0."
   ]
  },
  {
   "cell_type": "markdown",
   "id": "494faf50-35b3-4528-a798-2628f93f49c3",
   "metadata": {},
   "source": [
    "#### 9.Etudier la stationarité du  total affecté"
   ]
  },
  {
   "cell_type": "code",
   "execution_count": null,
   "id": "208f2430-347a-42ea-93a3-0dec6a9809d6",
   "metadata": {},
   "outputs": [],
   "source": [
    "# effectuter le test de stationnarité\n",
    "TotalDesDommagesStat = adf.test(data$ `Total des dommages ('000 US $)`,alternative = \"stationary\")\n",
    "print(TotalDesDommagesStat)"
   ]
  },
  {
   "cell_type": "markdown",
   "id": "76757182-41c5-4eee-849d-58b42fcba669",
   "metadata": {},
   "source": [
    "p-value = 0.01 < 0.05, on peut conclure que le nombre total des dommages est stationnaire d'ordre 0."
   ]
  },
  {
   "cell_type": "markdown",
   "id": "ac52c5fe-794d-4ddd-bc8b-3c12849bda3f",
   "metadata": {},
   "source": [
    "### 10.Expliquer la variable Dis Mag value en fonction des variables nombre total de décès, total affecté et total des dommages."
   ]
  },
  {
   "cell_type": "markdown",
   "id": "035f555d-af11-4ec3-9b75-87a12835a878",
   "metadata": {},
   "source": [
    "On a tous les valeurs sont d'order 0 (p value<0.05) Alors on va Utiliser le modéle VAR."
   ]
  },
  {
   "cell_type": "code",
   "execution_count": 70,
   "id": "a50b9577-cb34-4753-838e-c3c6471833f9",
   "metadata": {},
   "outputs": [
    {
     "name": "stdout",
     "output_type": "stream",
     "text": [
      "$Dis.Mag.Value\n",
      "                                       Estimate   Std. Error     t value\n",
      "Dis.Mag.Value.l1                   5.184722e-03 1.027086e-01  0.05047993\n",
      "nombre.total.de.décès.l1           5.259005e-06 4.425041e-06  1.18846454\n",
      "Total.Affecté.l1                  -3.194770e-09 1.670082e-07 -0.01912942\n",
      "Total.des.dommages...000.US....l1 -1.834996e-08 4.965101e-08 -0.36957889\n",
      "const                              6.618974e+00 6.870907e-01  9.63333429\n",
      "                                      Pr(>|t|)\n",
      "Dis.Mag.Value.l1                  9.598387e-01\n",
      "nombre.total.de.décès.l1          2.374102e-01\n",
      "Total.Affecté.l1                  9.847752e-01\n",
      "Total.des.dommages...000.US....l1 7.124625e-01\n",
      "const                             5.279120e-16\n",
      "\n"
     ]
    }
   ],
   "source": [
    "library('vars')\n",
    "data1 = data[, c('Dis Mag Value', 'nombre total de décès', 'Total Affecté', \"Total des dommages ('000 US $)\")]\n",
    "model = VAR(data1,p = 1)\n",
    "equation_dis_mag_value <- coef(model)[1]\n",
    "print(equation_dis_mag_value)\n"
   ]
  },
  {
   "cell_type": "markdown",
   "id": "e60ccc6a-107d-43b3-a9ff-635561afa8cf",
   "metadata": {},
   "source": [
    "## Interprétation :\n",
    "### Dis.Mag.Value.l1 (lag 1 de Dis.Mag.Value) :\n",
    "   - Estimate: 0.0052\n",
    "   - Std. Error: 0.1027\n",
    "   - t value: 0.0505\n",
    "   - Pr(>|t|): 0.9598\n",
    "   \n",
    "   L'estimation du coefficient est de 0.0052, ce qui indique une relation positive mais très faible entre la valeur passée de `Dis.Mag.Value` (lag 1) et la valeur actuelle. Cependant, le p-value est de 0.96, ce qui est bien au-dessus du seuil de 0.05, indiquant que cette relation n'est pas statistiquement significative.\n",
    "\n",
    "### nombre.total.de.décès.l1 (lag 1 de nombre total de décès) :\n",
    "   - Estimate: 5.259e-06\n",
    "   - Std. Error: 4.425e-06\n",
    "   - t value: 1.1885\n",
    "   - Pr(>|t|): 0.2374\n",
    "   \n",
    "   Le coefficient de 5.259e-06 suggère une relation positive faible avec la variable `Dis.Mag.Value`, mais le p-value de 0.237 est également bien supérieur à 0.05, ce qui indique que cette relation n'est pas statistiquement significative.\n",
    "\n",
    "### Total.Affecté.l1 (lag 1 de Total Affecté) :\n",
    "   - Estimate: -3.195e-09\n",
    "   - Std. Error: 1.670e-07\n",
    "   - t value: -0.0191\n",
    "   - Pr(>|t|): 0.9848\n",
    "   \n",
    "   Le coefficient très faible et négatif de -3.195e-09 indique une relation quasiment nulle entre `Total.Affecté` passé et la valeur actuelle de `Dis.Mag.Value`. Le p-value de 0.985 montre que cette relation est non significative.\n",
    "\n",
    "### Total.des.dommages...000.US....l1 (lag 1 de Total des dommages) :\n",
    "   - Estimate: -1.835e-08\n",
    "   - Std. Error: 4.965e-08\n",
    "   - t value: -0.3696\n",
    "   - Pr(>|t|): 0.7125\n",
    "   \n",
    "   Le coefficient est très faible et négatif, ce qui suggère une relation très faible entre les dommages passés et `Dis.Mag.Value`. Le p-value de 0.712 est bien supérieur à 0.05, ce qui indique que la relation n'est pas statistiquement significative.\n",
    "\n",
    "### const (constante) :\n",
    "   - Estimate: 6.618974\n",
    "   - Std. Error: 0.6871\n",
    "   - t value: 9.633\n",
    "   - Pr(>|t|): 5.279e-16\n",
    "\n",
    "   L'estimation de la constante est de 6.619, et elle est statistiquement significative avec un p-value extrêmement faible (5.279e-16). Cela suggère que, même si les autres variables explicatives ne sont pas significatives, la valeur constante a une contribution significative dans la prédiction de `Dis.Mag.Value`.\n",
    "\n"
   ]
  },
  {
   "cell_type": "code",
   "execution_count": null,
   "id": "7665db4e-c7a0-4c6d-9b67-542dbfa151af",
   "metadata": {},
   "outputs": [],
   "source": []
  }
 ],
 "metadata": {
  "kernelspec": {
   "display_name": "R",
   "language": "R",
   "name": "ir"
  },
  "language_info": {
   "codemirror_mode": "r",
   "file_extension": ".r",
   "mimetype": "text/x-r-source",
   "name": "R",
   "pygments_lexer": "r",
   "version": "4.4.1"
  }
 },
 "nbformat": 4,
 "nbformat_minor": 5
}
